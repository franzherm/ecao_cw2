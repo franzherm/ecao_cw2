{
 "cells": [
  {
   "cell_type": "markdown",
   "metadata": {},
   "source": [
    "# Particle Swarm Optimisation for Knights Covering Problem"
   ]
  },
  {
   "cell_type": "code",
   "execution_count": 28,
   "metadata": {},
   "outputs": [],
   "source": [
    "#necessary python library imports\n",
    "import numpy as np\n",
    "from collections.abc import Callable\n",
    "from tqdm.auto import tqdm\n",
    "import itertools\n",
    "import pandas as pd"
   ]
  },
  {
   "cell_type": "markdown",
   "metadata": {},
   "source": [
    "## Algorithm Implementation"
   ]
  },
  {
   "cell_type": "markdown",
   "metadata": {},
   "source": [
    "### Particle Swarm Optimisation class\n",
    "\n",
    "Fitness function is an error function, so we want to minimise it"
   ]
  },
  {
   "cell_type": "markdown",
   "metadata": {},
   "source": [
    "#### Utility functions"
   ]
  },
  {
   "cell_type": "code",
   "execution_count": 29,
   "metadata": {},
   "outputs": [],
   "source": [
    "def none_value_wrapper(value, default):\n",
    "    if value is None:\n",
    "        value = default\n",
    "    return value\n",
    "\n",
    "#features are number of fitness evaluations, fitness value, number of knights, number of covered squares.\n",
    "def store_iteration_results(result_array, index, num_fitness_evals, fitness_value, solution, binary_space: bool = True, board_size = None):\n",
    "    num_covered_squares = 0\n",
    "    if not binary_space:\n",
    "        num_covered_squares = compute_num_of_covered_squares(solution, binary_space= False, board_size=board_size)\n",
    "    else:\n",
    "        num_covered_squares = compute_num_of_covered_squares(solution)\n",
    "    num_knights = np.sum(solution != 0)\n",
    "    \n",
    "    result_array[index,:] = np.array([num_fitness_evals, fitness_value, num_knights, num_covered_squares])\n",
    "\n",
    "def compute_covered_squares(particle_position: np.ndarray, binary_space: bool = True, board_size: int = None) -> np.ndarray:\n",
    "    ''' \n",
    "    Computes all covered squares given the position of a single particle. \n",
    "    Covered squares are defined as positions on the chessboard that are either occupied or attacked by a knight.\n",
    "    '''\n",
    "    if binary_space:\n",
    "        board_size = int(np.sqrt(np.prod(particle_position.shape)))\n",
    "    else:\n",
    "        assert board_size is not None, \"When using integer space, you have to specify the board_size parameter\"\n",
    "        particle_position = convert_integer_to_binary_space(particle_position, board_size)\n",
    "\n",
    "    particle_position = particle_position.reshape((board_size, board_size))\n",
    "    knight_position_indices = np.argwhere(particle_position)\n",
    "\n",
    "    covered_positions = []\n",
    "    relative_jump_positions = [\n",
    "        #(x_change, y_change)\n",
    "        ( 0, 0),#current position\n",
    "        (-1,-2),#left top\n",
    "        (+1,-2),#left bottom\n",
    "        (-1,+2),#right top\n",
    "        (+1,+2),#right bottom\n",
    "        (-2,-1),#top left\n",
    "        (-2,+1),#top right\n",
    "        (+2,-1),#bottom left\n",
    "        (+2,+1),#bottom right\n",
    "    ]\n",
    "\n",
    "    for relative_jump_position in relative_jump_positions:\n",
    "        #calculate positions that the knights can jump to\n",
    "        positions = knight_position_indices.copy()\n",
    "        positions += relative_jump_position   \n",
    "\n",
    "        #calculated positions are only valid if they are within the bounds of the chessboard     \n",
    "        valid_indices = np.all((positions >= 0) & (positions < board_size), axis=1)\n",
    "\n",
    "        #append valid positions to the list of attacked positions\n",
    "        covered_positions.extend(positions[valid_indices])\n",
    "    \n",
    "    covered_positions = np.array(covered_positions)\n",
    "    unique_positions = np.unique(covered_positions, axis=0)\n",
    "\n",
    "    return unique_positions\n",
    "\n",
    "def convert_integer_to_binary_space(particle_position: np.ndarray, board_size: int):\n",
    "    binary_position = np.zeros(shape=board_size**2, dtype=np.uint8) #initialise board\n",
    "    knight_position_indices = np.cumsum(particle_position, dtype=np.uint32) #calculate knight positions on board\n",
    "    knight_position_indices = knight_position_indices - 1 #set the reference point for the first knight to -1 so that 0 always indicates an unused knight\n",
    "    \n",
    "    #keep only valid positions\n",
    "    valid_position_indices = (knight_position_indices >= 0) & (knight_position_indices < board_size**2)\n",
    "    knight_position_indices = knight_position_indices[valid_position_indices]\n",
    "\n",
    "    binary_position[knight_position_indices] = 1 #set knights on board\n",
    "    return binary_position\n",
    "\n",
    "def convert_binary_to_integer_space(particle_position: np.ndarray, max_number_of_knights):\n",
    "    knight_positions = np.argwhere(particle_position == 1).flatten()\n",
    "    num_knights = knight_positions.shape[0]\n",
    "\n",
    "    relative_positions = knight_positions.copy()\n",
    "    relative_positions[1:] -= relative_positions[:-1].copy() #inverse of cumsum as per https://stackoverflow.com/questions/38666924/what-is-the-inverse-of-the-numpy-cumsum-function\n",
    "    integer_positions = np.zeros(max_number_of_knights, dtype=np.uint32)\n",
    "\n",
    "    #store integer positions in return array\n",
    "    if num_knights > max_number_of_knights:\n",
    "        integer_positions[:max_number_of_knights] = relative_positions[:max_number_of_knights]\n",
    "    else:\n",
    "        integer_positions[:num_knights] = relative_positions[:num_knights]\n",
    "\n",
    "    integer_positions[0] = integer_positions[0] + 1 # reference point for first cell is the imaginary cell with index -1\n",
    "    return integer_positions\n",
    "\n",
    "\n",
    "def compute_num_of_covered_squares(particle_position: np.ndarray, binary_space: bool = True, board_size: int = None) -> int:\n",
    "    return compute_covered_squares(particle_position, binary_space, board_size).shape[0]\n"
   ]
  },
  {
   "cell_type": "markdown",
   "metadata": {},
   "source": [
    "#### Algorithm implementation"
   ]
  },
  {
   "cell_type": "code",
   "execution_count": 30,
   "metadata": {},
   "outputs": [],
   "source": [
    "class PSO:\n",
    "    def __init__(self, board_size: int, binary_space: bool, fitness_function: Callable[[np.ndarray], np.ndarray], \n",
    "                 penalty_function: Callable[[np.ndarray, int], np.ndarray] = (lambda *x: 0), num_particles: int = 100, c1: float = 1.0, \n",
    "                 c2: float = 1.0, inertia: float = 1.0, max_velocity: float = 4.0, min_velocity: float = -4.0, \n",
    "                 rng: np.random.Generator = np.random.default_rng(None)) -> None:\n",
    "        \n",
    "        #check for sensible hyperparameter selection\n",
    "        assert min_velocity < max_velocity, \"Max velocity has to be greater than the min velocity.\" \n",
    "        assert num_particles > 1, \"There has to be at least one particle\"\n",
    "        assert c1 >= 0, \"c1 has to be greater than 0\"\n",
    "        assert c2 >= 0, \"c2 has to be greater than 0\"\n",
    "        assert board_size > 3, \"board size has to be at least 3\"\n",
    "\n",
    "        #assign hyperparameters to object variables\n",
    "\n",
    "        #condition on sensible inertia values as proposed in: \"F. van den Bergh. An Analysis of Particle Swarm Optimizers (2002)\"\n",
    "        if isinstance(inertia, tuple):\n",
    "            self.inertia = inertia[0]\n",
    "            self.max_inertia = inertia[0]\n",
    "            self.min_inertia = inertia[1]\n",
    "            assert self.min_inertia >= 0 and self.inertia > self.min_inertia, \"min inertia must be greater or equal to zero and less than initial inertia\"\n",
    "        else:\n",
    "            assert inertia > c1+c2 / 2 - 1 and inertia >= 0, \"Inertia must be positive and greater than (c1 + c2) / 2 -1\"\n",
    "            self.inertia = none_value_wrapper(inertia, default=1.0)\n",
    "\n",
    "        self.board_size = board_size\n",
    "        self.binary_space = binary_space\n",
    "        self.fitness_function = fitness_function\n",
    "        self.penalty_function = none_value_wrapper(penalty_function, default=(lambda *x: 0))\n",
    "        self.num_particles = none_value_wrapper(num_particles, default=100)\n",
    "        self.c1 = none_value_wrapper(c1, default=1.0)\n",
    "        self.c2 = none_value_wrapper(c2, default=1.0)\n",
    "        self.max_velocity = none_value_wrapper(max_velocity,4.0)\n",
    "        self.min_velocity = none_value_wrapper(min_velocity,-4.0)\n",
    "        self.rng = none_value_wrapper(rng, np.random.default_rng(None))\n",
    "\n",
    "        #initialise particles and velocities\n",
    "        self.particle_positions = self.initialise_particle_positions(self.num_particles,self.binary_space, self.board_size)\n",
    "        self.particle_best_pos = self.particle_positions.copy()\n",
    "        \n",
    "        #set initial velocity to be in range [min_velocity, max_velocity]\n",
    "        random_velocities_factors = self.rng.random(size=(self.num_particles, self.particle_positions.shape[1]))\n",
    "        self.particle_velocities = random_velocities_factors * (self.max_velocity - self.min_velocity) + self.min_velocity\n",
    "        \n",
    "        #initialise global best\n",
    "        self.particle_fitness = self.compute_penalty_fitness(self.particle_positions, 0, self.binary_space, self.board_size)\n",
    "        self.particle_best_fitness = self.particle_fitness.copy()\n",
    "\n",
    "        best_fitness = np.min(self.particle_fitness) #find best fitness value\n",
    "        best_indices = np.argwhere(self.particle_fitness == best_fitness) #find all particles that have the best fitness value\n",
    "        best_chosen_index = self.rng.choice(best_indices) #randomly choose one of the particles with the best fitness values\n",
    "\n",
    "        self.global_best_location = self.particle_positions[best_chosen_index].copy()\n",
    "        self.global_best_fitness = self.particle_fitness[best_chosen_index][0]\n",
    "    \n",
    "    def initialise_particle_positions(self, num_particles: int, binary_space: bool, board_size: int):\n",
    "        initial_positions = None\n",
    "        if binary_space: #for binary space\n",
    "            initial_positions = self.rng.integers(low=0, high=1, endpoint=True, size=(num_particles, board_size**2))\n",
    "\n",
    "        else: #for integer space\n",
    "            #formular for maximum number of knights as described in: https://mathworld.wolfram.com/KnightsProblem.html\n",
    "            max_num_of_knights = (board_size**2)/2\n",
    "            if board_size % 2 == 1:\n",
    "                max_num_of_knights += 0.5\n",
    "            max_num_of_knights = int(max_num_of_knights)\n",
    "\n",
    "            chess_boards = np.zeros(shape=(num_particles, board_size**2), dtype=np.uint8)\n",
    "            num_knights = self.rng.integers(low=1, high=max_num_of_knights,endpoint=True, size=num_particles)\n",
    "            indices = [self.rng.choice(board_size**2, size=x, replace=False) for x in num_knights]\n",
    "            \n",
    "            for i in range(len(indices)):\n",
    "                chess_boards[i,indices[i]] = 1\n",
    "\n",
    "            initial_positions = np.apply_along_axis(convert_binary_to_integer_space, axis=1,arr=chess_boards,max_number_of_knights=max_num_of_knights)\n",
    "\n",
    "\n",
    "        return initial_positions\n",
    "\n",
    "    def compute_penalty_fitness(self, particle_positions: np.ndarray, k: int, binary_space: bool, board_size:int):\n",
    "        ''' Computes the fitness subtracted by the penalty for invalid solutions (i.e. not all squares attacked or occupied).\n",
    "            The penalty function receives a parameter 'k', which indicates the current iteration number.\n",
    "        '''\n",
    "        if binary_space:\n",
    "            return self.fitness_function(particle_positions) + self.penalty_function(particle_positions, k)\n",
    "        else:\n",
    "            return self.fitness_function(particle_positions, board_size) + self.penalty_function(particle_positions, k, board_size)\n",
    "    \n",
    "    def update_locations(self, r_sigmoid, binary_space):\n",
    "        if binary_space:\n",
    "            #the original algorithm was flawed in regards to the position update\n",
    "            #see https://www.researchgate.net/publication/224302958_A_novel_binary_particle_swarm_optimization\n",
    "            sigmoid = 1/(1 + np.exp(-self.particle_velocities))\n",
    "            change_indices = r_sigmoid < sigmoid\n",
    "\n",
    "            #dimensions in which the normalised velocity value is greater than random value change their location value from 0 to 1 or vice versa\n",
    "            self.particle_positions[change_indices] = (self.particle_positions[change_indices] + 1) % 2\n",
    "\n",
    "        else:\n",
    "            #adds velocity to current position. Rounds to nearest integer and clips so that the numbers are always non-negative.\n",
    "            new_positions = np.clip(np.rint(self.particle_positions + self.particle_velocities),a_min=0, a_max=self.board_size**2)\n",
    "            \n",
    "            new_positions_array = np.zeros(shape=self.particle_positions.shape)\n",
    "            non_zero_indices = new_positions != 0\n",
    "\n",
    "            #shifts the zeros to the end of the rows while maintaining the relative order of all the other elements in the row\n",
    "            for i, row in enumerate(new_positions):\n",
    "                non_zero_elements = row[non_zero_indices[i]]\n",
    "                new_positions_array[i,:len(non_zero_elements)] = non_zero_elements\n",
    "            \n",
    "            #update particle positions array\n",
    "            self.particle_positions = new_positions_array\n",
    "\n",
    "    def optimise(self, num_fitness_evaluations):\n",
    "        ''' Starts the optimisation loop. The num_iterations parameter specifies the terimination criterion as \n",
    "            the number of iterations that will be done.\n",
    "        '''\n",
    "        num_iterations = (num_fitness_evaluations // self.num_particles)+1\n",
    "\n",
    "        #features are number of fitness evaluations, fitness value, number of knights, number of covered squares.\n",
    "        #Only current best solutions are stored\n",
    "        metric_results = np.full(shape=(num_iterations, 4), fill_value=-1, dtype=np.float64)\n",
    "        stored_solutions = []\n",
    "\n",
    "        store_iteration_results(metric_results, index=0, num_fitness_evals=0, fitness_value=self.global_best_fitness,\n",
    "                                solution=self.global_best_location, binary_space=self.binary_space, board_size=self.board_size)\n",
    "        stored_solutions.append(self.global_best_location if self.binary_space \n",
    "                                else convert_integer_to_binary_space(self.global_best_location,self.board_size))\n",
    "\n",
    "\n",
    "        # initialise random numbers used in velocity computation\n",
    "        r1 = np.empty(shape=(self.num_particles,1))\n",
    "        r2 = np.empty(shape=(self.num_particles,1))\n",
    "        r_sigmoid = np.empty(shape=(self.num_particles,1))\n",
    "\n",
    "        for i in range(1, num_iterations):\n",
    "            #update random numbers\n",
    "            self.rng.random(size=(self.num_particles,1), out=r1)\n",
    "            self.rng.random(size=(self.num_particles,1), out=r2)\n",
    "            self.rng.random(size=(self.num_particles,1), out=r_sigmoid)\n",
    "\n",
    "            # update velocities\n",
    "            reduced_current_velocity = self.inertia * self.particle_velocities\n",
    "            local_velocity_component = self.c1 * r1 * (self.particle_best_pos - self.particle_positions)\n",
    "            global_velocity_component = self.c2 * r2 * (self.global_best_location - self.particle_positions)\n",
    "\n",
    "            new_velocity = reduced_current_velocity + local_velocity_component + global_velocity_component\n",
    "            self.particle_velocities = np.clip(new_velocity, a_max= self.max_velocity, a_min= self.min_velocity)\n",
    "\n",
    "            # update positions of particles in place\n",
    "            self.update_locations(r_sigmoid, binary_space=self.binary_space)\n",
    "\n",
    "            #linearly decrease inertia value according to: https://ieeexplore.ieee.org/document/6089659\n",
    "            if hasattr(self, 'min_inertia'):\n",
    "                self.inertia = self.max_inertia - i * (self.max_inertia - self.min_inertia)/(num_iterations-1)\n",
    "\n",
    "            # calculate fitness\n",
    "            self.particle_fitness = self.compute_penalty_fitness(self.particle_positions, i, self.binary_space, self.board_size)\n",
    "\n",
    "            # update best positions\n",
    "            # local best positions\n",
    "            new_best_local_fitness_indices = self.particle_fitness > self.particle_best_fitness\n",
    "            self.particle_best_fitness[new_best_local_fitness_indices] = self.particle_fitness[new_best_local_fitness_indices]\n",
    "            self.particle_best_pos[new_best_local_fitness_indices] = self.particle_positions[new_best_local_fitness_indices]\n",
    "\n",
    "            # global best positions\n",
    "            new_best_global_fitness = np.min(self.particle_fitness) #find best fitness value\n",
    "            new_best_global_fitness_indices = np.argwhere(self.particle_fitness == new_best_global_fitness) #find all particles that have the best fitness value\n",
    "            new_best_chosen_global_fitness_index = self.rng.choice(new_best_global_fitness_indices) #randomly choose one of the particles with the best fitness values\n",
    "\n",
    "            #update best solution \n",
    "            if new_best_global_fitness < self.global_best_fitness:\n",
    "                self.global_best_fitness = new_best_global_fitness\n",
    "                self.global_best_location = self.particle_positions[new_best_chosen_global_fitness_index].copy()\n",
    "            \n",
    "            #store solution and metric values to arrays\n",
    "            store_iteration_results(metric_results, index=i, num_fitness_evals=i*self.num_particles, fitness_value=self.global_best_fitness,\n",
    "                                    solution=self.global_best_location, binary_space=self.binary_space, board_size=self.board_size)\n",
    "            stored_solutions.append(self.global_best_location if self.binary_space else convert_integer_to_binary_space(self.global_best_location, board_size=self.board_size))\n",
    "        \n",
    "        return metric_results, stored_solutions\n",
    "\n"
   ]
  },
  {
   "cell_type": "markdown",
   "metadata": {},
   "source": [
    "### Fitness and penalty functions"
   ]
  },
  {
   "cell_type": "markdown",
   "metadata": {},
   "source": [
    "#### Fitness function implementations"
   ]
  },
  {
   "cell_type": "code",
   "execution_count": 31,
   "metadata": {},
   "outputs": [],
   "source": [
    "def fitness_space_pso_paper(particle_positions: np.ndarray, board_size:int = None) -> np.ndarray:\n",
    "    '''From paper Investigating binary PSO parameter influence on the knights cover problem by N. Franken and A.P. Engelbrecht (2005)'''\n",
    "\n",
    "    if board_size is not None:\n",
    "        return fitness_integer_space_pso_paper(particle_positions, board_size)\n",
    "    else:\n",
    "        num_covered_squares = np.apply_along_axis(compute_num_of_covered_squares, axis=1, arr = particle_positions)\n",
    "        num_knights = np.sum(particle_positions, axis=1)\n",
    "        total_num_squares = particle_positions.shape[1]\n",
    "        num_empty_squares = total_num_squares - num_covered_squares\n",
    "        \n",
    "        eps = 1e-6 #to avoid zero division\n",
    "        fitness = num_empty_squares + num_knights + (total_num_squares+eps)/(num_covered_squares + eps)\n",
    "\n",
    "        return fitness\n",
    "\n",
    "def fitness_integer_space_pso_paper(particle_positions: np.ndarray, board_size:int = None) -> np.ndarray:\n",
    "    num_covered_squares = np.apply_along_axis(compute_num_of_covered_squares, axis=1, arr=particle_positions, binary_space=False, board_size=board_size)\n",
    "    num_knights = np.sum((particle_positions > 0), axis=1)\n",
    "    total_num_squares = board_size**2\n",
    "    num_empty_squares = total_num_squares - num_covered_squares\n",
    "   \n",
    "    eps = 1e-6 #to avoid zero division\n",
    "    \n",
    "    fitness = num_empty_squares + num_knights + total_num_squares/(num_covered_squares + eps)\n",
    "    return fitness\n",
    "\n",
    "#this function works for both integer and binary search space\n",
    "def fitness_simple(particle_positions: np.ndarray, board_size: int = None) -> np.ndarray:\n",
    "    #binary space\n",
    "    ratio_of_empty_squares = None\n",
    "    if board_size is None:\n",
    "        ratio_of_empty_squares = (particle_positions.shape[1] - np.apply_along_axis(compute_num_of_covered_squares, axis = 1, arr=particle_positions)) \\\n",
    "                              / particle_positions.shape[1]\n",
    "    #integer space\n",
    "    else:  \n",
    "        ratio_of_empty_squares = (board_size**2 - np.apply_along_axis(compute_num_of_covered_squares, axis = 1, arr=particle_positions, binary_space=False, board_size=board_size)) \\\n",
    "                              / board_size**2\n",
    "    \n",
    "    ratio_of_empty_squares = ratio_of_empty_squares.astype(dtype=np.float64)\n",
    "    return ratio_of_empty_squares"
   ]
  },
  {
   "cell_type": "markdown",
   "metadata": {},
   "source": [
    "#### Penalty function implementations"
   ]
  },
  {
   "cell_type": "code",
   "execution_count": 32,
   "metadata": {},
   "outputs": [],
   "source": [
    "#function wrapper that can deal with both search spaces\n",
    "def penalty_function(particle_positions: np.ndarray, iteration_number: int, board_size: int = None):\n",
    "    if board_size is None:\n",
    "        return penalty_binary_space(particle_positions, iteration_number)\n",
    "    else:\n",
    "        return penalty_integer_space(particle_positions, iteration_number, board_size)\n",
    "\n",
    "\n",
    "#computes penalty for conventional search space depending on the ratio of empty squares\n",
    "def penalty_binary_space(particle_positions: np.ndarray, iteration_number: int):\n",
    "    num_knights = np.sum((particle_positions > 0), axis=1, dtype=np.float64)\n",
    "    ratio_of_knights = num_knights / particle_positions.shape[0]\n",
    "    return ratio_of_knights\n",
    "\n",
    "#computes penalty for integer search space depending on ratio of empty squares and whether the knights are positioned outside the board\n",
    "def penalty_integer_space(particle_positions:np.ndarray, iteration_number: int, board_size):\n",
    "    last_knight_location = np.sum(particle_positions, axis=1, dtype=np.float64)\n",
    "    distance_from_last_square = last_knight_location - board_size**2\n",
    "    num_knights = np.sum((particle_positions > 0), axis=1)\n",
    "    ratio_of_knights = num_knights / board_size**2\n",
    "    penalties = ratio_of_knights + np.sqrt(iteration_number) * np.maximum(0, distance_from_last_square**2)\n",
    "    return penalties"
   ]
  },
  {
   "cell_type": "markdown",
   "metadata": {},
   "source": [
    "### Random Search Algorithm class"
   ]
  },
  {
   "cell_type": "code",
   "execution_count": 33,
   "metadata": {},
   "outputs": [],
   "source": [
    "class RandomSearch:\n",
    "    def __init__(self, board_size: int, fitness_function: Callable[[np.ndarray], np.ndarray], \n",
    "                 penalty_function: Callable[[np.ndarray, int], np.ndarray] = (lambda *x: 0), \n",
    "                 rng: np.random.Generator = np.random.default_rng(None)):\n",
    "        \n",
    "        self.board_size = board_size\n",
    "        self.fitness_function = fitness_function\n",
    "        self.penalty_function = none_value_wrapper(penalty_function, default=(lambda *x: 0))\n",
    "        self.rng = rng\n",
    "\n",
    "        self.current_solution = self.rng.integers(low=0, high=1, endpoint=True, size=board_size**2)\n",
    "        #add another dimension so that fitness functions work the same across all algorithms\n",
    "        self.current_solution = self.current_solution[np.newaxis,:]\n",
    "        self.best_solution = self.current_solution.copy()\n",
    "        self.best_fitness = self.compute_penalty_fitness(self.best_solution, 0)[0]\n",
    "        \n",
    "    def compute_penalty_fitness(self, particle_positions: np.ndarray, k: int):\n",
    "        ''' Computes the fitness subtracted by the penalty for invalid solutions (i.e. not all squares attacked or occupied).\n",
    "            The penalty function receives a parameter 'k', which indicates the current iteration number.\n",
    "        '''\n",
    "        \n",
    "        return self.fitness_function(particle_positions) + self.penalty_function(particle_positions, k)\n",
    "        \n",
    "    def optimise(self, num_iterations):\n",
    "        \n",
    "        #features are number of fitness evaluations, fitness value, number of knights, number of covered squares.\n",
    "        #Only current best solutions are stored\n",
    "        metric_results = np.full(shape=(num_iterations, 4), fill_value=-1, dtype=np.float64)\n",
    "        stored_solutions = []\n",
    "\n",
    "        store_iteration_results(metric_results, index=0, num_fitness_evals=0, fitness_value=self.best_fitness,solution=self.best_solution)\n",
    "        stored_solutions.append(self.best_solution)\n",
    "\n",
    "        for i in range(1, num_iterations):\n",
    "            #select random position to be altered\n",
    "            mutation_index = self.rng.integers(low=0, high=self.current_solution.shape[0])\n",
    "            #set element at index position to it's binary complement\n",
    "            self.current_solution[mutation_index] = (self.current_solution[mutation_index]+1) % 2 \n",
    "            #compute fitness of altered solution\n",
    "            fitness = self.compute_penalty_fitness(self.current_solution, i)[0]\n",
    "            \n",
    "            #update best solution\n",
    "            if(fitness < self.best_fitness):\n",
    "                self.best_solution = self.current_solution.copy()\n",
    "                self.best_fitness = fitness\n",
    "            \n",
    "            store_iteration_results(metric_results, index=i, num_fitness_evals=i, fitness_value=self.best_fitness, solution=self.best_solution)\n",
    "            stored_solutions.append(self.best_solution)\n",
    "        \n",
    "        return metric_results, stored_solutions"
   ]
  },
  {
   "cell_type": "markdown",
   "metadata": {},
   "source": [
    "### Stochastic Hillclimb Algorithm class"
   ]
  },
  {
   "cell_type": "code",
   "execution_count": 43,
   "metadata": {},
   "outputs": [],
   "source": [
    "#implements First choice stochastic hill climb as per Artificial Intelligence: A Modern Approach, Global Edition, Fourth Edition\n",
    "class StochasticHillclimb:\n",
    "    def __init__(self, board_size: int, fitness_function: Callable[[np.ndarray], np.ndarray], \n",
    "                 penalty_function: Callable[[np.ndarray, int], np.ndarray] = (lambda *x: 0), allowed_plateau_steps: int = 100,\n",
    "                 plateau_tolerance: float = 0.1, rng: np.random.Generator = np.random.default_rng(None)):\n",
    "        \n",
    "        assert plateau_tolerance >= 0\n",
    "\n",
    "        self.board_size = board_size\n",
    "        self.fitness_function = fitness_function\n",
    "        self.penalty_function = none_value_wrapper(penalty_function, default=(lambda *x: 0))\n",
    "        self.rng = rng\n",
    "        self.allowed_plateau_steps = allowed_plateau_steps\n",
    "        self.plateau_tolerance = plateau_tolerance\n",
    "        self.current_solution = self.rng.integers(low=0, high=1, endpoint=True, size=board_size**2)\n",
    "\n",
    "        #add another dimension so that fitness functions work the same across all algorithms\n",
    "        self.current_fitness = self.compute_penalty_fitness(self.current_solution[np.newaxis,:], 0)[0]\n",
    "\n",
    "    def compute_penalty_fitness(self, particle_positions: np.ndarray, k: int):\n",
    "        ''' Computes the fitness subtracted by the penalty for invalid solutions (i.e. not all squares attacked or occupied).\n",
    "            The penalty function receives a parameter 'k', which indicates the current iteration number.\n",
    "        '''\n",
    "        return self.fitness_function(particle_positions) + self.penalty_function(particle_positions, k)\n",
    "\n",
    "    def optimise(self, num_function_evals):\n",
    "        num_plateau_steps = 0\n",
    "\n",
    "        #features are number of fitness evaluations, fitness value, number of knights, number of covered squares.\n",
    "        #Only current best solutions are stored\n",
    "        metric_results = np.full(shape=(num_function_evals, 4), fill_value=-1, dtype=np.float64)\n",
    "        stored_solutions = []\n",
    "\n",
    "        store_iteration_results(metric_results, index=0, num_fitness_evals=0, fitness_value=self.current_fitness, solution=self.current_solution)\n",
    "        stored_solutions.append(self.current_solution)\n",
    "\n",
    "        function_eval_counter = 0\n",
    "        for i in range(1,num_function_evals+1): #iteration number\n",
    "            neighbour_permutation = self.rng.permutation(self.current_solution.shape[0])\n",
    "            \n",
    "            better_solution_found = False\n",
    "            for neighbour_index in neighbour_permutation:\n",
    "                neighbour_solution = self.current_solution.copy()\n",
    "                neighbour_solution[neighbour_index] = (neighbour_solution[neighbour_index]+1) % 2 \n",
    "                \n",
    "                #add another dimension so that fitness functions work the same across all algorithms\n",
    "                neighbour_fitness = self.compute_penalty_fitness(neighbour_solution[np.newaxis,:], i)[0]\n",
    "\n",
    "                function_eval_counter+=1 #increment counter of function evals\n",
    "                if(function_eval_counter > num_function_evals):\n",
    "                    return metric_results, stored_solutions\n",
    "\n",
    "                #choose first neighbour with more optimal fitness (in this case, lower fitness value as we want to minimise the function)\n",
    "                # neighbour has either significantly better fitness than current solution or is within plateau tolerance\n",
    "                if ((neighbour_fitness - self.current_fitness)/self.current_fitness) < self.plateau_tolerance:\n",
    "                    #check if fitness is on a plateau\n",
    "                    if (neighbour_fitness - self.current_fitness)/self.current_fitness >= 0:\n",
    "                        num_plateau_steps += 1 #increment plateau step counter\n",
    "                        \n",
    "                        #cancel optimisation if maximum number of plateau steps is reached\n",
    "                        if num_plateau_steps > self.allowed_plateau_steps:\n",
    "                            return metric_results, stored_solutions\n",
    "                        \n",
    "                    else: #reset plateau step counter if fitness is reduced\n",
    "                        num_plateau_steps = 0\n",
    "\n",
    "                    self.current_solution = neighbour_solution\n",
    "                    self.current_fitness = neighbour_fitness\n",
    "\n",
    "                    store_iteration_results(metric_results, index=i, num_fitness_evals=function_eval_counter, fitness_value=self.current_fitness, solution=self.current_solution)\n",
    "                    stored_solutions.append(self.current_solution)\n",
    "                    better_solution_found = True\n",
    "                    break\n",
    "            \n",
    "            # no improved solution was found among the neighbours -> peak has been reached\n",
    "            if not better_solution_found:\n",
    "                return metric_results, stored_solutions\n",
    "\n",
    "        #after final iteration\n",
    "        return metric_results, stored_solutions "
   ]
  },
  {
   "cell_type": "markdown",
   "metadata": {},
   "source": [
    "## Experimentation"
   ]
  },
  {
   "cell_type": "markdown",
   "metadata": {},
   "source": [
    "### Utility functions"
   ]
  },
  {
   "cell_type": "code",
   "execution_count": 44,
   "metadata": {},
   "outputs": [],
   "source": [
    "def increment_indices(current_indices, max_indices):\n",
    "    current_indices[-1] += 1\n",
    "    for i in reversed(range(len(current_indices))):\n",
    "        if current_indices[i] > max_indices[i]:\n",
    "            current_indices[i] = 0\n",
    "            if i != 0:\n",
    "                current_indices[i-1] +=1\n",
    "        else:\n",
    "            break\n",
    "    return current_indices\n",
    "\n",
    "def fetch_algorithm_parameters(algorithm_config, parameter_indices):\n",
    "    config_value_list = list(algorithm_config.values())\n",
    "    parameters = [config_value_list[parameter][parameter_index] for parameter, parameter_index in enumerate(parameter_indices)]\n",
    "    \n",
    "    #flatten tuples in parameter list\n",
    "    flattened_parameters = []\n",
    "    for element in parameters:\n",
    "        if isinstance(element,tuple):\n",
    "            flattened_parameters.extend(element)\n",
    "        else:\n",
    "            flattened_parameters.append(element)\n",
    "            \n",
    "    return flattened_parameters\n",
    "\n",
    "def create_dataframe_from_results(algorithm_config, parameter_values_list, metric_results_list, \n",
    "                                  solutions_list, num_of_experiments, METRIC_FEATURE_NAMES, algorithm_name):\n",
    "    #extract function names from parameter list\n",
    "    for i in range(len(parameter_values_list)):\n",
    "        parameter_values_list[i] = [elem.__name__ if callable(elem) else elem for elem in parameter_values_list[i]]\n",
    "\n",
    "    #calculate the number of rows in metric_results_list that correspond to the same experiment\n",
    "    num_rows_per_experiment = metric_results_list.shape[0] // num_of_experiments\n",
    "\n",
    "    #extend parameter_values_list to have the same number of elements as metric_results_list\n",
    "    parameter_values_list = list(itertools.chain.from_iterable(itertools.repeat(x, num_rows_per_experiment) for x in parameter_values_list))\n",
    "\n",
    "    #extract column header names from algorithm config dict\n",
    "    param_column_headers = list(algorithm_config.keys())\n",
    "    param_column_headers = [str.split(key,\"_and_\") for key in param_column_headers] #split compound keys\n",
    "    param_column_headers = list(itertools.chain.from_iterable(param_column_headers))#flatten list\n",
    "\n",
    "    #convert numpy solution arrays to strings\n",
    "    solutions_list = [np.array2string(x.flatten(), max_line_width=np.inf) for x in solutions_list]\n",
    "\n",
    "    #create dataframes for metric values, parameter values, solutions and for the metadata valid for all conducted experiments\n",
    "    df_metric_values = pd.DataFrame(metric_results_list, columns= METRIC_FEATURE_NAMES)\n",
    "    df_param_values = pd.DataFrame(parameter_values_list, columns = param_column_headers)\n",
    "\n",
    "    #concatenate columns of dataframes\n",
    "    df_results = pd.concat([df_param_values,df_metric_values], axis=1)\n",
    "    df_results = df_results.loc[(df_metric_values!=-1).any(axis=1)] #remove unused rows\n",
    "    df_results = df_results.assign(solutions=solutions_list) #append solutions\n",
    "\n",
    "    df_results[\"algorithm\"] = algorithm_name #append information on which search algorithm was used\n",
    "    return df_results\n",
    "    "
   ]
  },
  {
   "cell_type": "markdown",
   "metadata": {},
   "source": [
    "### Experimentation config"
   ]
  },
  {
   "cell_type": "code",
   "execution_count": 49,
   "metadata": {},
   "outputs": [],
   "source": [
    "#run configuration for particle swarm optimisation\n",
    "pso_config = {\n",
    "    \"binary_space\": [True, False],\n",
    "    \"fitness_function_and_penalty_function\": [(fitness_space_pso_paper,None),(fitness_space_pso_paper, penalty_function),\n",
    "                                              (fitness_simple, penalty_function)],\n",
    "    \"num_particles\": [100],\n",
    "    \"c1_and_c2_and_inertia\": [(1,1,0.90), (1,1,(0.9,0.1))], #tuple of inertia values indicates that inertia is adjusted dynamically\n",
    "    \"max_velocity_and_min_velocity\": [(4,-4)],\n",
    "}\n",
    "\n",
    "#run configuration for random search\n",
    "rs_config = {\n",
    "    \"fitness_function_and_penalty_function\": [(fitness_space_pso_paper,None),(fitness_space_pso_paper, penalty_function)]     \n",
    "}\n",
    "\n",
    "#run configuration for stochastic hillclimb\n",
    "shc_config = {\n",
    "    \"fitness_function_and_penalty_function\": [(fitness_space_pso_paper,None),(fitness_space_pso_paper, penalty_function)],\n",
    "    \"allowed_plateau_steps\": [200],\n",
    "    \"plateau_tolerance\": [0.05],\n",
    "}\n",
    "\n",
    "#meta run config for all experiments\n",
    "run_config = {\n",
    "    \"optimisation_algorithm\": [StochasticHillclimb],\n",
    "    \"algorithm_configs\":[shc_config],\n",
    "    \"board_sizes\": [5,6,7,8,9,10],\n",
    "    \"runs_per_experiment\": 10,\n",
    "    \"function_evals_per_run\": 100_000,\n",
    "    \"rng_seed\": 111\n",
    "}"
   ]
  },
  {
   "cell_type": "markdown",
   "metadata": {},
   "source": [
    "### Run Experiments"
   ]
  },
  {
   "cell_type": "code",
   "execution_count": 50,
   "metadata": {},
   "outputs": [
    {
     "data": {
      "application/vnd.jupyter.widget-view+json": {
       "model_id": "12afd4b21cf54d72b31cdff5db94c222",
       "version_major": 2,
       "version_minor": 0
      },
      "text/plain": [
       "Optimisation Algorithms:   0%|          | 0/1 [00:00<?, ?it/s]"
      ]
     },
     "metadata": {},
     "output_type": "display_data"
    },
    {
     "data": {
      "application/vnd.jupyter.widget-view+json": {
       "model_id": "2efa98a2ebec4412961ba84a1bd95bf3",
       "version_major": 2,
       "version_minor": 0
      },
      "text/plain": [
       "Experiments:   0%|          | 0/12 [00:00<?, ?it/s]"
      ]
     },
     "metadata": {},
     "output_type": "display_data"
    },
    {
     "data": {
      "application/vnd.jupyter.widget-view+json": {
       "model_id": "a2cbc59e030946d6be9f1ad0fc0a27e6",
       "version_major": 2,
       "version_minor": 0
      },
      "text/plain": [
       "Runs:   0%|          | 0/10 [00:00<?, ?it/s]"
      ]
     },
     "metadata": {},
     "output_type": "display_data"
    },
    {
     "ename": "KeyboardInterrupt",
     "evalue": "",
     "output_type": "error",
     "traceback": [
      "\u001b[0;31m---------------------------------------------------------------------------\u001b[0m",
      "\u001b[0;31mKeyboardInterrupt\u001b[0m                         Traceback (most recent call last)",
      "Cell \u001b[0;32mIn[50], line 35\u001b[0m\n\u001b[1;32m     33\u001b[0m \u001b[38;5;28;01mfor\u001b[39;00m run \u001b[38;5;129;01min\u001b[39;00m tqdm(\u001b[38;5;28mrange\u001b[39m(run_config[\u001b[38;5;124m\"\u001b[39m\u001b[38;5;124mruns_per_experiment\u001b[39m\u001b[38;5;124m\"\u001b[39m]), desc\u001b[38;5;241m=\u001b[39m\u001b[38;5;124m\"\u001b[39m\u001b[38;5;124mRuns\u001b[39m\u001b[38;5;124m\"\u001b[39m, position\u001b[38;5;241m=\u001b[39m\u001b[38;5;241m2\u001b[39m, leave\u001b[38;5;241m=\u001b[39m\u001b[38;5;28;01mFalse\u001b[39;00m):\n\u001b[1;32m     34\u001b[0m     optimiser \u001b[38;5;241m=\u001b[39m algorithm(\u001b[38;5;241m*\u001b[39mparameters) \u001b[38;5;66;03m#initialise optimisation algorithm with parameters\u001b[39;00m\n\u001b[0;32m---> 35\u001b[0m     metric_results, stored_solutions  \u001b[38;5;241m=\u001b[39m \u001b[43moptimiser\u001b[49m\u001b[38;5;241;43m.\u001b[39;49m\u001b[43moptimise\u001b[49m\u001b[43m(\u001b[49m\u001b[43mrun_config\u001b[49m\u001b[43m[\u001b[49m\u001b[38;5;124;43m\"\u001b[39;49m\u001b[38;5;124;43mfunction_evals_per_run\u001b[39;49m\u001b[38;5;124;43m\"\u001b[39;49m\u001b[43m]\u001b[49m\u001b[43m)\u001b[49m \u001b[38;5;66;03m#perform optimisation\u001b[39;00m\n\u001b[1;32m     37\u001b[0m     start_index \u001b[38;5;241m=\u001b[39m experiment_index\u001b[38;5;241m*\u001b[39mrun_config[\u001b[38;5;124m\"\u001b[39m\u001b[38;5;124mruns_per_experiment\u001b[39m\u001b[38;5;124m\"\u001b[39m]\u001b[38;5;241m*\u001b[39mrun_config[\u001b[38;5;124m\"\u001b[39m\u001b[38;5;124mfunction_evals_per_run\u001b[39m\u001b[38;5;124m\"\u001b[39m] \\\n\u001b[1;32m     38\u001b[0m                   \u001b[38;5;241m+\u001b[39mrun\u001b[38;5;241m*\u001b[39mrun_config[\u001b[38;5;124m\"\u001b[39m\u001b[38;5;124mfunction_evals_per_run\u001b[39m\u001b[38;5;124m\"\u001b[39m]\n\u001b[1;32m     39\u001b[0m     metric_results_list[start_index:start_index\u001b[38;5;241m+\u001b[39mmetric_results\u001b[38;5;241m.\u001b[39mshape[\u001b[38;5;241m0\u001b[39m],:] \u001b[38;5;241m=\u001b[39m metric_results\n",
      "Cell \u001b[0;32mIn[43], line 70\u001b[0m, in \u001b[0;36mStochasticHillclimb.optimise\u001b[0;34m(self, num_function_evals)\u001b[0m\n\u001b[1;32m     67\u001b[0m \u001b[38;5;28mself\u001b[39m\u001b[38;5;241m.\u001b[39mcurrent_solution \u001b[38;5;241m=\u001b[39m neighbour_solution\n\u001b[1;32m     68\u001b[0m \u001b[38;5;28mself\u001b[39m\u001b[38;5;241m.\u001b[39mcurrent_fitness \u001b[38;5;241m=\u001b[39m neighbour_fitness\n\u001b[0;32m---> 70\u001b[0m \u001b[43mstore_iteration_results\u001b[49m\u001b[43m(\u001b[49m\u001b[43mmetric_results\u001b[49m\u001b[43m,\u001b[49m\u001b[43m \u001b[49m\u001b[43mindex\u001b[49m\u001b[38;5;241;43m=\u001b[39;49m\u001b[43mi\u001b[49m\u001b[43m,\u001b[49m\u001b[43m \u001b[49m\u001b[43mnum_fitness_evals\u001b[49m\u001b[38;5;241;43m=\u001b[39;49m\u001b[43mfunction_eval_counter\u001b[49m\u001b[43m,\u001b[49m\u001b[43m \u001b[49m\u001b[43mfitness_value\u001b[49m\u001b[38;5;241;43m=\u001b[39;49m\u001b[38;5;28;43mself\u001b[39;49m\u001b[38;5;241;43m.\u001b[39;49m\u001b[43mcurrent_fitness\u001b[49m\u001b[43m,\u001b[49m\u001b[43m \u001b[49m\u001b[43msolution\u001b[49m\u001b[38;5;241;43m=\u001b[39;49m\u001b[38;5;28;43mself\u001b[39;49m\u001b[38;5;241;43m.\u001b[39;49m\u001b[43mcurrent_solution\u001b[49m\u001b[43m)\u001b[49m\n\u001b[1;32m     71\u001b[0m stored_solutions\u001b[38;5;241m.\u001b[39mappend(\u001b[38;5;28mself\u001b[39m\u001b[38;5;241m.\u001b[39mcurrent_solution)\n\u001b[1;32m     72\u001b[0m better_solution_found \u001b[38;5;241m=\u001b[39m \u001b[38;5;28;01mTrue\u001b[39;00m\n",
      "Cell \u001b[0;32mIn[29], line 12\u001b[0m, in \u001b[0;36mstore_iteration_results\u001b[0;34m(result_array, index, num_fitness_evals, fitness_value, solution, binary_space, board_size)\u001b[0m\n\u001b[1;32m     10\u001b[0m     num_covered_squares \u001b[38;5;241m=\u001b[39m compute_num_of_covered_squares(solution, binary_space\u001b[38;5;241m=\u001b[39m \u001b[38;5;28;01mFalse\u001b[39;00m, board_size\u001b[38;5;241m=\u001b[39mboard_size)\n\u001b[1;32m     11\u001b[0m \u001b[38;5;28;01melse\u001b[39;00m:\n\u001b[0;32m---> 12\u001b[0m     num_covered_squares \u001b[38;5;241m=\u001b[39m \u001b[43mcompute_num_of_covered_squares\u001b[49m\u001b[43m(\u001b[49m\u001b[43msolution\u001b[49m\u001b[43m)\u001b[49m\n\u001b[1;32m     13\u001b[0m num_knights \u001b[38;5;241m=\u001b[39m np\u001b[38;5;241m.\u001b[39msum(solution \u001b[38;5;241m!=\u001b[39m \u001b[38;5;241m0\u001b[39m)\n\u001b[1;32m     15\u001b[0m result_array[index,:] \u001b[38;5;241m=\u001b[39m np\u001b[38;5;241m.\u001b[39marray([num_fitness_evals, fitness_value, num_knights, num_covered_squares])\n",
      "Cell \u001b[0;32mIn[29], line 92\u001b[0m, in \u001b[0;36mcompute_num_of_covered_squares\u001b[0;34m(particle_position, binary_space, board_size)\u001b[0m\n\u001b[1;32m     91\u001b[0m \u001b[38;5;28;01mdef\u001b[39;00m \u001b[38;5;21mcompute_num_of_covered_squares\u001b[39m(particle_position: np\u001b[38;5;241m.\u001b[39mndarray, binary_space: \u001b[38;5;28mbool\u001b[39m \u001b[38;5;241m=\u001b[39m \u001b[38;5;28;01mTrue\u001b[39;00m, board_size: \u001b[38;5;28mint\u001b[39m \u001b[38;5;241m=\u001b[39m \u001b[38;5;28;01mNone\u001b[39;00m) \u001b[38;5;241m-\u001b[39m\u001b[38;5;241m>\u001b[39m \u001b[38;5;28mint\u001b[39m:\n\u001b[0;32m---> 92\u001b[0m     \u001b[38;5;28;01mreturn\u001b[39;00m \u001b[43mcompute_covered_squares\u001b[49m\u001b[43m(\u001b[49m\u001b[43mparticle_position\u001b[49m\u001b[43m,\u001b[49m\u001b[43m \u001b[49m\u001b[43mbinary_space\u001b[49m\u001b[43m,\u001b[49m\u001b[43m \u001b[49m\u001b[43mboard_size\u001b[49m\u001b[43m)\u001b[49m\u001b[38;5;241m.\u001b[39mshape[\u001b[38;5;241m0\u001b[39m]\n",
      "Cell \u001b[0;32mIn[29], line 57\u001b[0m, in \u001b[0;36mcompute_covered_squares\u001b[0;34m(particle_position, binary_space, board_size)\u001b[0m\n\u001b[1;32m     54\u001b[0m     covered_positions\u001b[38;5;241m.\u001b[39mextend(positions[valid_indices])\n\u001b[1;32m     56\u001b[0m covered_positions \u001b[38;5;241m=\u001b[39m np\u001b[38;5;241m.\u001b[39marray(covered_positions)\n\u001b[0;32m---> 57\u001b[0m unique_positions \u001b[38;5;241m=\u001b[39m \u001b[43mnp\u001b[49m\u001b[38;5;241;43m.\u001b[39;49m\u001b[43munique\u001b[49m\u001b[43m(\u001b[49m\u001b[43mcovered_positions\u001b[49m\u001b[43m,\u001b[49m\u001b[43m \u001b[49m\u001b[43maxis\u001b[49m\u001b[38;5;241;43m=\u001b[39;49m\u001b[38;5;241;43m0\u001b[39;49m\u001b[43m)\u001b[49m\n\u001b[1;32m     59\u001b[0m \u001b[38;5;28;01mreturn\u001b[39;00m unique_positions\n",
      "File \u001b[0;32m~/.local/lib/python3.10/site-packages/numpy/lib/arraysetops.py:317\u001b[0m, in \u001b[0;36munique\u001b[0;34m(ar, return_index, return_inverse, return_counts, axis, equal_nan)\u001b[0m\n\u001b[1;32m    314\u001b[0m     uniq \u001b[38;5;241m=\u001b[39m np\u001b[38;5;241m.\u001b[39mmoveaxis(uniq, \u001b[38;5;241m0\u001b[39m, axis)\n\u001b[1;32m    315\u001b[0m     \u001b[38;5;28;01mreturn\u001b[39;00m uniq\n\u001b[0;32m--> 317\u001b[0m output \u001b[38;5;241m=\u001b[39m \u001b[43m_unique1d\u001b[49m\u001b[43m(\u001b[49m\u001b[43mconsolidated\u001b[49m\u001b[43m,\u001b[49m\u001b[43m \u001b[49m\u001b[43mreturn_index\u001b[49m\u001b[43m,\u001b[49m\n\u001b[1;32m    318\u001b[0m \u001b[43m                   \u001b[49m\u001b[43mreturn_inverse\u001b[49m\u001b[43m,\u001b[49m\u001b[43m \u001b[49m\u001b[43mreturn_counts\u001b[49m\u001b[43m,\u001b[49m\u001b[43m \u001b[49m\u001b[43mequal_nan\u001b[49m\u001b[38;5;241;43m=\u001b[39;49m\u001b[43mequal_nan\u001b[49m\u001b[43m)\u001b[49m\n\u001b[1;32m    319\u001b[0m output \u001b[38;5;241m=\u001b[39m (reshape_uniq(output[\u001b[38;5;241m0\u001b[39m]),) \u001b[38;5;241m+\u001b[39m output[\u001b[38;5;241m1\u001b[39m:]\n\u001b[1;32m    320\u001b[0m \u001b[38;5;28;01mreturn\u001b[39;00m _unpack_tuple(output)\n",
      "File \u001b[0;32m~/.local/lib/python3.10/site-packages/numpy/lib/arraysetops.py:336\u001b[0m, in \u001b[0;36m_unique1d\u001b[0;34m(ar, return_index, return_inverse, return_counts, equal_nan)\u001b[0m\n\u001b[1;32m    334\u001b[0m     aux \u001b[38;5;241m=\u001b[39m ar[perm]\n\u001b[1;32m    335\u001b[0m \u001b[38;5;28;01melse\u001b[39;00m:\n\u001b[0;32m--> 336\u001b[0m     \u001b[43mar\u001b[49m\u001b[38;5;241;43m.\u001b[39;49m\u001b[43msort\u001b[49m\u001b[43m(\u001b[49m\u001b[43m)\u001b[49m\n\u001b[1;32m    337\u001b[0m     aux \u001b[38;5;241m=\u001b[39m ar\n\u001b[1;32m    338\u001b[0m mask \u001b[38;5;241m=\u001b[39m np\u001b[38;5;241m.\u001b[39mempty(aux\u001b[38;5;241m.\u001b[39mshape, dtype\u001b[38;5;241m=\u001b[39mnp\u001b[38;5;241m.\u001b[39mbool_)\n",
      "\u001b[0;31mKeyboardInterrupt\u001b[0m: "
     ]
    }
   ],
   "source": [
    "NUM_METRIC_FEATURES = 4\n",
    "METRIC_FEATURE_NAMES = [\"fitness_evals\",\"fitness_values\",\"num_knights\",\"num_covered_squares\"]\n",
    "\n",
    "# run each optimisation algorithm\n",
    "for optimiser_id, algorithm in tqdm(enumerate(run_config[\"optimisation_algorithm\"]), \n",
    "    desc=\"Optimisation Algorithms\", total=len(run_config[\"optimisation_algorithm\"]), position=0, leave=False):\n",
    "\n",
    "    algorithm_config = run_config[\"algorithm_configs\"][optimiser_id] #fetch experiment config for the current optimisation algorithm\n",
    "    rng = np.random.default_rng(run_config[\"rng_seed\"])\n",
    "\n",
    "    #add board_sizes from run_config as first element of current config\n",
    "    extended_config = {\"board_sizes\":run_config[\"board_sizes\"]} \n",
    "    extended_config.update(algorithm_config)\n",
    "    algorithm_config = extended_config\n",
    "\n",
    "    max_parameter_indices = np.array([len(x)-1 for x in algorithm_config.values()], dtype=int) #compute the maximum indices for each config parameter\n",
    "    num_of_experiments = np.cumprod(max_parameter_indices + 1)[-1] #compute the number of experiments to run based on number of values in config\n",
    "    current_parameter_indices = np.zeros(len(algorithm_config), dtype= int) #initialise current parameter indices to 0\n",
    "\n",
    "    #initialise result storage. When using PSO, the list will not be completely filled \n",
    "    #because less than function_evals_per_run solutions will be provided per run. These will be removed when storing the results to the dataframe\n",
    "    metric_results_list = np.full(shape=(run_config[\"runs_per_experiment\"]*num_of_experiments*run_config[\"function_evals_per_run\"],\n",
    "                                   NUM_METRIC_FEATURES), fill_value=-1, dtype=np.float64)\n",
    "    stored_solutions_list = []\n",
    "    parameter_values_list = []\n",
    "    \n",
    "    #run all experiments\n",
    "    for experiment_index in tqdm(range(num_of_experiments), desc=\"Experiments\", position=1, leave=False):\n",
    "        parameters = fetch_algorithm_parameters(algorithm_config, current_parameter_indices)\n",
    "        parameter_values_list.append(parameters.copy())\n",
    "        parameters.append(rng) #append random number generator to parameters\n",
    "        #run all runs of the same experiment\n",
    "        for run in tqdm(range(run_config[\"runs_per_experiment\"]), desc=\"Runs\", position=2, leave=False):\n",
    "            optimiser = algorithm(*parameters) #initialise optimisation algorithm with parameters\n",
    "            metric_results, stored_solutions  = optimiser.optimise(run_config[\"function_evals_per_run\"]) #perform optimisation\n",
    "\n",
    "            start_index = experiment_index*run_config[\"runs_per_experiment\"]*run_config[\"function_evals_per_run\"] \\\n",
    "                          +run*run_config[\"function_evals_per_run\"]\n",
    "            metric_results_list[start_index:start_index+metric_results.shape[0],:] = metric_results\n",
    "            stored_solutions_list.extend(stored_solutions)\n",
    "\n",
    "        #increment indices of the current algorithm's parameters\n",
    "        current_parameter_indices = increment_indices(current_parameter_indices, max_parameter_indices)\n",
    "    \n",
    "    df = create_dataframe_from_results(algorithm_config, parameter_values_list, metric_results_list, stored_solutions_list, num_of_experiments,\n",
    "                                       METRIC_FEATURE_NAMES, algorithm_name= algorithm.__name__)\n",
    "\n",
    "    # save dataframe to csv file\n",
    "    df.to_csv(run_config[\"optimisation_algorithm\"][optimiser_id].__name__+\"_results.csv\")\n"
   ]
  },
  {
   "cell_type": "markdown",
   "metadata": {},
   "source": [
    "## Result Visualisation"
   ]
  },
  {
   "cell_type": "markdown",
   "metadata": {},
   "source": [
    "### Load results file"
   ]
  },
  {
   "cell_type": "code",
   "execution_count": 1,
   "metadata": {},
   "outputs": [],
   "source": [
    "import pandas as pd\n",
    "import numpy as np\n",
    "from matplotlib import pyplot as plt\n",
    "import seaborn as sns"
   ]
  },
  {
   "cell_type": "code",
   "execution_count": 18,
   "metadata": {},
   "outputs": [],
   "source": [
    "df_rs = pd.read_csv(\"RandomSearch_results.csv\", low_memory=False)\n",
    "df_shc = pd.read_csv(\"StochasticHillclimb_results.csv\", low_memory=False)\n",
    "df_pso = pd.read_csv(\"PSO_results.csv\", low_memory=False)"
   ]
  },
  {
   "cell_type": "code",
   "execution_count": 19,
   "metadata": {},
   "outputs": [],
   "source": [
    "df_rs[\"penalty_function\"] = df_rs[\"penalty_function\"].astype(str)\n",
    "df_shc[\"penalty_function\"] = df_shc[\"penalty_function\"].astype(str)\n",
    "df_pso[\"penalty_function\"] = df_pso[\"penalty_function\"].astype(str)\n",
    "\n",
    "df_rs[\"fitness_function\"] = df_rs[\"fitness_function\"].astype(str)\n",
    "df_shc[\"fitness_function\"] = df_shc[\"fitness_function\"].astype(str)\n",
    "df_pso[\"fitness_function\"] = df_pso[\"fitness_function\"].astype(str)"
   ]
  },
  {
   "cell_type": "markdown",
   "metadata": {},
   "source": [
    "### Utility functions"
   ]
  },
  {
   "cell_type": "code",
   "execution_count": 20,
   "metadata": {},
   "outputs": [],
   "source": [
    "#minimum number of knights needed as per: https://oeis.org/A006075\n",
    "min_knights_dict = {\n",
    "    5:5,\n",
    "    6:8,\n",
    "    7:10,\n",
    "    8:12,\n",
    "    9:14,\n",
    "    10:16\n",
    "}\n",
    "\n",
    "#adding experiment and run column. \n",
    "#I could have just added this information during the experiment execution, but I forgot, so now I must suffer.\n",
    "def add_experiment_and_run_column(df, indicator_column_name, runs_per_experiment):\n",
    "    '''\n",
    "    indicator_column_name is the name of the parameter column whose values change after every experiment,\n",
    "    i.e. the last element in the respective algorithm dict which has multiple values.\n",
    "    '''\n",
    "\n",
    "    #add experiment column\n",
    "    df[\"experiment\"] = df[indicator_column_name].shift() != df[indicator_column_name]\n",
    "    df[\"experiment\"] = df[\"experiment\"].astype(dtype=np.uint)\n",
    "    df[\"experiment\"] = df[\"experiment\"].cumsum()\n",
    "\n",
    "    #add run column\n",
    "    df[\"run\"] = (df[\"fitness_evals\"] == 0).astype(np.uint)\n",
    "    df[\"run\"] = (df[\"run\"].cumsum() - 1) % runs_per_experiment\n"
   ]
  },
  {
   "cell_type": "markdown",
   "metadata": {},
   "source": [
    "### Add additional information to dataframes"
   ]
  },
  {
   "cell_type": "code",
   "execution_count": 21,
   "metadata": {},
   "outputs": [],
   "source": [
    "add_experiment_and_run_column(df_pso, \"inertia\", 10)\n",
    "add_experiment_and_run_column(df_shc, \"penalty_function\", 10)\n",
    "add_experiment_and_run_column(df_rs, \"penalty_function\", 10)"
   ]
  },
  {
   "cell_type": "markdown",
   "metadata": {},
   "source": [
    "### First solutions over number of fitness evaluations"
   ]
  },
  {
   "cell_type": "markdown",
   "metadata": {},
   "source": [
    "#### Non-optimal solutions"
   ]
  },
  {
   "cell_type": "code",
   "execution_count": 22,
   "metadata": {},
   "outputs": [
    {
     "name": "stdout",
     "output_type": "stream",
     "text": [
      "Solutions binary space:\n",
      " board_sizes\n",
      "5     59233\n",
      "6     39559\n",
      "7     35008\n",
      "8     12745\n",
      "9      5340\n",
      "10      896\n",
      "Name: count, dtype: int64\n",
      "\n",
      "Solutions integer space:\n",
      " board_sizes\n",
      "5    41589\n",
      "6    16527\n",
      "7     2373\n",
      "8       25\n",
      "Name: count, dtype: int64\n",
      "\n",
      "Solutions hillclimb:\n",
      " board_sizes\n",
      "5     1158\n",
      "6      615\n",
      "7      587\n",
      "8     1020\n",
      "9     1106\n",
      "10    1146\n",
      "Name: count, dtype: int64\n",
      "\n",
      "Solutions random search:\n",
      " board_sizes\n",
      "5     500002\n",
      "6     500000\n",
      "7     200001\n",
      "8     300000\n",
      "9     300002\n",
      "10    200004\n",
      "Name: count, dtype: int64\n"
     ]
    }
   ],
   "source": [
    "pso_solutions = df_pso.copy()\n",
    "shc_solutions = df_shc.copy()\n",
    "rs_solutions = df_rs.copy()\n",
    "#solution found but not necessarily an optimal one, i.e. not the minimum number of knights\n",
    "pso_solutions = pso_solutions.loc[pso_solutions[\"num_covered_squares\"] == pso_solutions[\"board_sizes\"]**2,:]\n",
    "pso_bin_s = pso_solutions[pso_solutions[\"binary_space\"] == True].copy()\n",
    "pso_int_s = pso_solutions[pso_solutions[\"binary_space\"] == False].copy()\n",
    "\n",
    "shc_s = shc_solutions.loc[shc_solutions[\"num_covered_squares\"] == shc_solutions[\"board_sizes\"]**2,:]\n",
    "rs_s = rs_solutions.loc[rs_solutions[\"num_covered_squares\"] == rs_solutions[\"board_sizes\"]**2,:]\n",
    "\n",
    "#integer space representation found less solution\n",
    "print(\"Solutions binary space:\\n\",pso_bin_s[\"board_sizes\"].value_counts().sort_index())\n",
    "print()\n",
    "print(\"Solutions integer space:\\n\",pso_int_s[\"board_sizes\"].value_counts().sort_index())\n",
    "print()\n",
    "print(\"Solutions hillclimb:\\n\",shc_s[\"board_sizes\"].value_counts().sort_index())\n",
    "print()\n",
    "print(\"Solutions random search:\\n\",rs_s[\"board_sizes\"].value_counts().sort_index())"
   ]
  },
  {
   "cell_type": "code",
   "execution_count": 23,
   "metadata": {},
   "outputs": [
    {
     "data": {
      "text/plain": [
       "Text(0, 0.5, 'Number of knights')"
      ]
     },
     "execution_count": 23,
     "metadata": {},
     "output_type": "execute_result"
    },
    {
     "data": {
      "image/png": "[encoded data removed]",
      "text/plain": [
       "<Figure size 640x480 with 1 Axes>"
      ]
     },
     "metadata": {},
     "output_type": "display_data"
    }
   ],
   "source": [
    "sns.set_theme(font_scale=1)\n",
    "pso_bin_s[\"algorithm\"] = \"PSO Binary\"\n",
    "pso_int_s[\"algorithm\"] = \"PSO Integer\"\n",
    "combined_df = pd.concat([pso_bin_s, pso_int_s, shc_s, rs_s]).copy()\n",
    "\n",
    "data =combined_df.groupby(['algorithm','board_sizes', 'experiment', 'run'])['num_knights'].min().reset_index()\n",
    "ax = sns.boxplot(x='board_sizes', y='num_knights', data=data, hue='algorithm', showfliers = False)\n",
    "ax.set_title(\"Average minimum number of knights used for solution\")\n",
    "ax.set_xlabel(\"Board length\")\n",
    "ax.set_ylabel(\"Number of knights\")"
   ]
  },
  {
   "cell_type": "code",
   "execution_count": 24,
   "metadata": {},
   "outputs": [
    {
     "name": "stdout",
     "output_type": "stream",
     "text": [
      "Optimal solutions binary space:\n",
      " board_sizes\n",
      "5    54223\n",
      "6     8146\n",
      "7      876\n",
      "Name: count, dtype: int64\n",
      "\n",
      "Optimal solutions integer space:\n",
      " board_sizes\n",
      "5    20765\n",
      "6     4331\n",
      "Name: count, dtype: int64\n",
      "\n",
      "Optimal solutions hillclimb:\n",
      " board_sizes\n",
      "5     1012\n",
      "6      414\n",
      "7      163\n",
      "8        6\n",
      "10       1\n",
      "Name: count, dtype: int64\n",
      "\n",
      "Optimal solutions random search:\n",
      " Series([], Name: count, dtype: int64)\n",
      "\n"
     ]
    }
   ],
   "source": [
    "#optimal solutions\n",
    "pso_bin_opt = pso_bin_s[pso_bin_s[\"num_knights\"] <= pso_bin_s[\"board_sizes\"].map(min_knights_dict)].copy()\n",
    "pso_int_opt = pso_int_s[pso_int_s[\"num_knights\"] <= pso_int_s[\"board_sizes\"].map(min_knights_dict)].copy()\n",
    "\n",
    "shc_opt = shc_s[shc_s[\"num_knights\"] <= shc_s[\"board_sizes\"].map(min_knights_dict)]\n",
    "rs_opt = rs_s[rs_s[\"num_knights\"] <= rs_s[\"board_sizes\"].map(min_knights_dict)]\n",
    "\n",
    "\n",
    "#integer space representation found less optimal solutions\n",
    "print(\"Optimal solutions binary space:\\n\",pso_bin_opt[\"board_sizes\"].value_counts().sort_index())\n",
    "print()\n",
    "print(\"Optimal solutions integer space:\\n\",pso_int_opt[\"board_sizes\"].value_counts().sort_index())\n",
    "print()\n",
    "print(\"Optimal solutions hillclimb:\\n\",shc_opt[\"board_sizes\"].value_counts().sort_index())\n",
    "print()\n",
    "print(\"Optimal solutions random search:\\n\",rs_opt[\"board_sizes\"].value_counts().sort_index())\n",
    "print()"
   ]
  },
  {
   "cell_type": "code",
   "execution_count": 25,
   "metadata": {},
   "outputs": [
    {
     "data": {
      "text/plain": [
       "Text(0, 0.5, 'Fitness evaluations')"
      ]
     },
     "execution_count": 25,
     "metadata": {},
     "output_type": "execute_result"
    },
    {
     "data": {
      "image/png": "[encoded data removed]",
      "text/plain": [
       "<Figure size 640x480 with 1 Axes>"
      ]
     },
     "metadata": {},
     "output_type": "display_data"
    }
   ],
   "source": [
    "pso_bin_opt[\"algorithm\"] = \"PSO Binary\"\n",
    "pso_int_opt[\"algorithm\"] = \"PSO Integer\"\n",
    "\n",
    "combined_df = pd.concat([pso_bin_opt, pso_int_opt, shc_opt, rs_opt]).copy()\n",
    "\n",
    "data =combined_df.groupby(['algorithm','board_sizes', 'experiment', 'run'])['fitness_evals'].min().reset_index()\n",
    "ax = sns.barplot(x='board_sizes', y='fitness_evals', data=data, hue='algorithm')\n",
    "ax.set_yscale(\"log\")\n",
    "ax.set_title(\"Minimum average number of fitness evaluations to find optimal solution\")\n",
    "ax.set_xlabel(\"Board length\")\n",
    "ax.set_ylabel(\"Fitness evaluations\")"
   ]
  },
  {
   "cell_type": "markdown",
   "metadata": {},
   "source": [
    "### Visualisation"
   ]
  },
  {
   "cell_type": "code",
   "execution_count": 187,
   "metadata": {},
   "outputs": [
    {
     "name": "stdout",
     "output_type": "stream",
     "text": [
      "Optimal solutions binary space:\n",
      " board_sizes\n",
      "5    54729\n",
      "6    19339\n",
      "7     1117\n",
      "9      891\n",
      "8       43\n",
      "Name: count, dtype: int64\n",
      "Optimal solutions integer space:\n",
      " board_sizes\n",
      "6    26945\n",
      "5    26779\n",
      "7    12103\n",
      "8     4952\n",
      "9     1372\n",
      "Name: count, dtype: int64\n"
     ]
    }
   ],
   "source": []
  },
  {
   "cell_type": "code",
   "execution_count": null,
   "metadata": {},
   "outputs": [],
   "source": []
  }
 ],
 "metadata": {
  "kernelspec": {
   "display_name": "Python 3",
   "language": "python",
   "name": "python3"
  },
  "language_info": {
   "codemirror_mode": {
    "name": "ipython",
    "version": 3
   },
   "file_extension": ".py",
   "mimetype": "text/x-python",
   "name": "python",
   "nbconvert_exporter": "python",
   "pygments_lexer": "ipython3",
   "version": "3.10.12"
  }
 },
 "nbformat": 4,
 "nbformat_minor": 2
}
